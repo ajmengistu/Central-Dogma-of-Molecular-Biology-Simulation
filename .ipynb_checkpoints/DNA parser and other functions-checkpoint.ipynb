{
 "cells": [
  {
   "cell_type": "markdown",
   "metadata": {},
   "source": [
    "# Project Objective:  "
   ]
  },
  {
   "cell_type": "markdown",
   "metadata": {},
   "source": [
    "To fetch genetic sequences of proteins from NCBI GenBank public repository and use that data to simulate the central dogma of molecular biology (the flow of genetic information within a biological system: DNA -> RNA -> Protein)."
   ]
  },
  {
   "cell_type": "markdown",
   "metadata": {},
   "source": [
    "Step 1: fetch the genetic sequence of a randomly chosen protein with an id = XM_025720182.1"
   ]
  },
  {
   "cell_type": "code",
   "execution_count": 5,
   "metadata": {},
   "outputs": [
    {
     "ename": "ModuleNotFoundError",
     "evalue": "No module named 'Bio'",
     "output_type": "error",
     "traceback": [
      "\u001b[0;31m---------------------------------------------------------------------------\u001b[0m",
      "\u001b[0;31mModuleNotFoundError\u001b[0m                       Traceback (most recent call last)",
      "\u001b[0;32m<ipython-input-5-ebd6248a9246>\u001b[0m in \u001b[0;36m<module>\u001b[0;34m()\u001b[0m\n\u001b[1;32m      1\u001b[0m \u001b[0;31m# import Entrez and SeqIO from the Biopython library\u001b[0m\u001b[0;34m\u001b[0m\u001b[0;34m\u001b[0m\u001b[0m\n\u001b[0;32m----> 2\u001b[0;31m \u001b[0;32mfrom\u001b[0m \u001b[0mBio\u001b[0m \u001b[0;32mimport\u001b[0m \u001b[0mEntrez\u001b[0m\u001b[0;34m,\u001b[0m \u001b[0mSeqIO\u001b[0m\u001b[0;34m\u001b[0m\u001b[0m\n\u001b[0m\u001b[1;32m      3\u001b[0m \u001b[0mEntrez\u001b[0m\u001b[0;34m.\u001b[0m\u001b[0memail\u001b[0m \u001b[0;34m=\u001b[0m \u001b[0;34m\"A.N.Other@example.com\"\u001b[0m  \u001b[0;31m# Always tell NCBI who you are\u001b[0m\u001b[0;34m\u001b[0m\u001b[0m\n\u001b[1;32m      4\u001b[0m \u001b[0;31m# fetch the information about the protein with the id = XM_025720182.1\u001b[0m\u001b[0;34m\u001b[0m\u001b[0;34m\u001b[0m\u001b[0m\n\u001b[1;32m      5\u001b[0m \u001b[0maspergillus_histones\u001b[0m \u001b[0;34m=\u001b[0m \u001b[0;34m\"XM_025720182.1\"\u001b[0m\u001b[0;34m\u001b[0m\u001b[0m\n",
      "\u001b[0;31mModuleNotFoundError\u001b[0m: No module named 'Bio'"
     ]
    }
   ],
   "source": [
    "# import Entrez and SeqIO from the Biopython library\n",
    "from Bio import Entrez, SeqIO\n",
    "Entrez.email = \"A.N.Other@example.com\"  # Always tell NCBI who you are\n",
    "# fetch the information about the protein with the id = XM_025720182.1\n",
    "aspergillus_histones = \"XM_025720182.1\"\n",
    "handle = Entrez.efetch(db=\"nucleotide\", id=aspergillus_histones, rettype=\"gb\", retmode=\"text\")\n",
    "# read the the sequence\n",
    "record = SeqIO.read(handle, \"genbank\")\n",
    "handle.close()\n",
    "# Fetch the DNA sequence of the current protein and store it as a fasta file\n",
    "SeqIO.write(record, \"aspergillus_histones_dna.fa\", \"fasta\")"
   ]
  },
  {
   "cell_type": "markdown",
   "metadata": {},
   "source": [
    "Step 2: Locally Store the fetched data as a .txt file with an appropriate file name. "
   ]
  },
  {
   "cell_type": "code",
   "execution_count": 2,
   "metadata": {},
   "outputs": [
    {
     "data": {
      "text/plain": [
       "136"
      ]
     },
     "execution_count": 2,
     "metadata": {},
     "output_type": "execute_result"
    }
   ],
   "source": [
    "# Vist the following website https://www.ncbi.nlm.nih.gov/nuccore/XM_025720182.1 \n",
    "# and save the translation (sequence of amino acids) of the aspergillus_histones DNA sequence as \n",
    "# txt file (e.g.aspergillus_histones_rna.txt)\n",
    "# The tranlated sequence will be used to verify our translation of the original DNA sequence \n",
    "# (aspergillus_histones_dna.fa)\n",
    "file = open(\"aspergillus_histones_rna.txt\", \"a\")\n",
    "file.write(\"MARTKQTARKSTGGKAPRKQLASKAARKAAPSTGGVKKPHRYKPGTVALREIRRYQKSTELLIRKLPFQRLVREIAQDFKSDLRFQSSAIGALQESVEAYLVSLFEDTNLCAIHAKRVTIQSKDIQLARRLRGERS\")"
   ]
  },
  {
   "cell_type": "markdown",
   "metadata": {},
   "source": [
    "Step 3: Implement an Object Oriented Program. "
   ]
  },
  {
   "cell_type": "code",
   "execution_count": 97,
   "metadata": {},
   "outputs": [],
   "source": [
    "# For regular expression pattern matching\n",
    "import re \n",
    "# Implement a nucleotide class with several functions to manipulate any strand of DNA sequence.\n",
    "class Nucleotide:\n",
    "   # A constructor that takes a DNA sequence as a String of characters (G, A, C, T).\n",
    "    def __init__(self, file):\n",
    "        # DNA Sequence of the provided protein\n",
    "        self.dna = None\n",
    "        # Name of the provided species\n",
    "        self.species = None\n",
    "        # Protein type of the provided protein\n",
    "        self.protein_type = None\n",
    "        # NCBI GenBank id value of the provided protein\n",
    "        self.ID = None\n",
    "        # Call parse function to parse the file and store the appropriate values in the \n",
    "        # instance variables above.\n",
    "        self.parse_file(file)\n",
    "    \n",
    "    def parse_file(self, file):\n",
    "        \"\"\"Parse the file containing the DNA sequence and assign the \n",
    "        instance variables appropriately.\"\"\"\n",
    "        \n",
    "        # Regular Expression to parse the needed information\n",
    "        regex = '>([A-Z][A-Z]\\_\\d+\\.[0-9]) ([A-Z][a-z]+ [a-z]+) [A-Z]+ \\d+ ([a-zA-Z0-9-\\s]+)\\(' \n",
    "        result = re.search(regex, file)\n",
    "        # Store the ID\n",
    "        self.ID = result[1]\n",
    "        # Store the species name\n",
    "        self.species = result[2]\n",
    "        # Store the protein type\n",
    "        self.protein_type = result[3]\n",
    "        \n",
    "        # Iterate over the fasta file line by line and concatenate the DNA sequences into one.\n",
    "        result = \"\"\n",
    "        # Note: the first line is skipped because it does not contain DNA sequence.\n",
    "        for line in file.splitlines()[1:]:            \n",
    "            result = result + line\n",
    "        # Store the DNA seq result \n",
    "        self.dna = result\n",
    "    \n",
    "    def transcribe_dna(self, dna):\n",
    "        \"\"\"The first phase of the Central Dogma of molecular biology. Transcribe the \n",
    "        current DNA sequence into mRNA. Returns an RNA sequences as a String containing \n",
    "        the characters (G, A, C, U).\"\"\"\n",
    "        \n",
    "        rna_seq = \"\"\n",
    "        \n",
    "        # Transcription process: dna base to rna base:\n",
    "        # G -> C \n",
    "        # C -> G\n",
    "        # A -> U (Notice: not T)\n",
    "        # T -> A\n",
    "        \n",
    "        for dna_base in dna:\n",
    "\n",
    "            if dna_base == 'G':\n",
    "                rna_seq += 'C'\n",
    "                \n",
    "            elif dna_base == 'C':\n",
    "                rna_seq += 'G'\n",
    "                \n",
    "            elif dna_base == 'A':\n",
    "                rna_seq += 'U'\n",
    "            \n",
    "            else:\n",
    "                rna_seq += 'A'\n",
    "                \n",
    "        return rna_seq\n",
    "  \n",
    "    def find_start_codon(self, rna):\n",
    "        \"\"\"Find the starting postion in RNA sequence and return index in string.\"\"\"\n",
    "\n",
    "        for index in range(len(rna)):\n",
    "                \n",
    "            if rna[index] == 'A':\n",
    "                \n",
    "                if rna[index+1] == 'U':\n",
    "                    \n",
    "                    if rna[index+2] == 'G':\n",
    "                        \n",
    "                        return index\n",
    "                    \n",
    "    def translate_rna(self, rna):\n",
    "        \"\"\"The second phase of the Central Dogma of molecular biology.\n",
    "        Translate the RNA sequence into protein.\n",
    "        Returns a sequence of amino acids as a String.\"\"\"\n",
    "        \n",
    "        # find the start codon: ATG\n",
    "        \n",
    "    \n",
    "    def complementary_dna(dna):\n",
    "        \"\"\"Returns the complementary strand of the current DNA sequence\"\"\"\n",
    "        print(\"complementing...\")\n",
    "    \n",
    "    def verify_protein_seq(protein):\n",
    "        \"\"\"Returns a boolean based on whether a provided protein sequence is result of the \n",
    "        current DNA sequence. True if equal, false otherwise.\"\"\"\n",
    "        print(\"verifying...\")\n",
    "    \n",
    "    # Takes a three letter codon and returns the corresponding Amino Acid \n",
    "    # using the table dictionary.\n",
    "    def codon_table(self, codon):\n",
    "        # There are 64 total codons and they each represent a particular amino acid.\n",
    "        table = {\n",
    "            'ATA':'I', 'ATC':'I', 'ATT':'I', 'ATG':'M',\n",
    "            'ACA':'T', 'ACC':'T', 'ACG':'T', 'ACT':'T',\n",
    "            'AAC':'N', 'AAT':'N', 'AAA':'K', 'AAG':'K',\n",
    "            'AGC':'S', 'AGT':'S', 'AGA':'R', 'AGG':'R',\n",
    "            'CTA':'L', 'CTC':'L', 'CTG':'L', 'CTT':'L',\n",
    "            'CCA':'P', 'CCC':'P', 'CCG':'P', 'CCT':'P',\n",
    "            'CAC':'H', 'CAT':'H', 'CAA':'Q', 'CAG':'Q',\n",
    "            'CGA':'R', 'CGC':'R', 'CGG':'R', 'CGT':'R',\n",
    "            'GTA':'V', 'GTC':'V', 'GTG':'V', 'GTT':'V',\n",
    "            'GCA':'A', 'GCC':'A', 'GCG':'A', 'GCT':'A',\n",
    "            'GAC':'D', 'GAT':'D', 'GAA':'E', 'GAG':'E',\n",
    "            'GGA':'G', 'GGC':'G', 'GGG':'G', 'GGT':'G',\n",
    "            'TCA':'S', 'TCC':'S', 'TCG':'S', 'TCT':'S',\n",
    "            'TTC':'F', 'TTT':'F', 'TTA':'L', 'TTG':'L',\n",
    "            'TAC':'Y', 'TAT':'Y', 'TAA':'_', 'TAG':'_',\n",
    "            'TGC':'C', 'TGT':'C', 'TGA':'_', 'TGG':'W',\n",
    "        }\n",
    "        \n",
    "        return table[codon]   # Return the corresponding value to the codon key"
   ]
  },
  {
   "cell_type": "markdown",
   "metadata": {},
   "source": [
    "Step 4: Verify that the genetic sequence was correctly transcribed and translated. "
   ]
  },
  {
   "cell_type": "code",
   "execution_count": 98,
   "metadata": {},
   "outputs": [],
   "source": [
    "# Objective: Verify if the fetched DNA sequence, aspergillus_histones_dna, from the NCBI GenBank repository\n",
    "# is transcribed and translated correctly. \n",
    "# Open the file containing the DNA sequence\n",
    "file = open(\"aspergillus_histones_dna.fa\")\n",
    "dnaSeq = file.read()\n",
    "\n",
    "# Instantiate a new Nucleotide object.\n",
    "aspergillus_histone_dna_seq = Nucleotide(dnaSeq)\n",
    "rna = aspergillus_histone_dna_seq.transcribe_dna(aspergillus_histone_dna_seq.dna)\n",
    "aspergillus_histone_dna_seq.translate_rna(rna)\n"
   ]
  },
  {
   "cell_type": "code",
   "execution_count": 90,
   "metadata": {},
   "outputs": [],
   "source": [
    "# protein = open()"
   ]
  },
  {
   "cell_type": "code",
   "execution_count": null,
   "metadata": {},
   "outputs": [],
   "source": []
  },
  {
   "cell_type": "code",
   "execution_count": null,
   "metadata": {},
   "outputs": [],
   "source": []
  }
 ],
 "metadata": {
  "kernelspec": {
   "display_name": "Python 3",
   "language": "python",
   "name": "python3"
  },
  "language_info": {
   "codemirror_mode": {
    "name": "ipython",
    "version": 3
   },
   "file_extension": ".py",
   "mimetype": "text/x-python",
   "name": "python",
   "nbconvert_exporter": "python",
   "pygments_lexer": "ipython3",
   "version": "3.6.3"
  }
 },
 "nbformat": 4,
 "nbformat_minor": 2
}
